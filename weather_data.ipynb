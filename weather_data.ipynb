{
 "cells": [
  {
   "cell_type": "code",
   "execution_count": 11,
   "metadata": {},
   "outputs": [],
   "source": [
    "import pandas as pd\n",
    "import numpy as np\n",
    "import seaborn as sns\n",
    "import matplotlib.pyplot as plt\n",
    "import pickle\n",
    "import datetime\n",
    "import codecs\n",
    "import urllib.request\n",
    "import sys\n",
    "import csv\n",
    "\n",
    "%config InlineBackend.figure_format = 'svg'\n",
    "%matplotlib inline\n",
    "sns.set(color_codes=True)\n",
    "plt.style.use('seaborn-colorblind')\n",
    "\n",
    "pd.set_option('display.max_columns', None)\n",
    "pd.set_option('display.max_rows', 50)\n",
    "pd.set_option('display.precision', 2)"
   ]
  },
  {
   "cell_type": "code",
   "execution_count": 9,
   "metadata": {},
   "outputs": [],
   "source": [
    "# This is the core of our weather query URL\n",
    "BaseURL = 'https://weather.visualcrossing.com/VisualCrossingWebServices/rest/services/weatherdata/'\n",
    "\n",
    "# Set up the location parameter for our query\n",
    "QueryLocation = '&location=' + urllib.parse.quote('36.12,-86.68')\n",
    "\n",
    "# Set up the query type parameter for our query ('FORECAST' or 'HISTORY')\n",
    "QueryType='HISTORY'\n",
    "\n",
    "# Set up the key parameter for our query\n",
    "QueryKey = '&key=' + '3F58RLD8A3645QK8IY7SESDKY'\n",
    "\n",
    "# Set up the date parameters for our query. Used only for historical weather data requests\n",
    "FromDateParam = '2015-03-26'\n",
    "ToDateParam = '2015-03-26'"
   ]
  },
  {
   "cell_type": "code",
   "execution_count": 14,
   "metadata": {},
   "outputs": [
    {
     "name": "stdout",
     "output_type": "stream",
     "text": [
      " - Fetching history for date:  2015-03-26 - 2015-03-26\n",
      " - Running query URL: https://weather.visualcrossing.com/VisualCrossingWebServices/rest/services/weatherdata/history?&aggregateHours=24&unitGroup=us&dayStartTime=0:0:00&dayEndTime=0:0:00&startDateTime=2015-03-26T00:00:00&endDateTime=2015-03-26T00:00:00&location=36.12%2C-86.68&key=3F58RLD8A3645QK8IY7SESDKY\n"
     ]
    }
   ],
   "source": [
    "# Set up the specific parameters based on the type of query\n",
    "if QueryType == 'FORECAST':\n",
    "    print(' - Fetching forecast data')\n",
    "    QueryTypeParams = 'forecast?&aggregateHours=24&unitGroup=us&shortColumnNames=false'\n",
    "else:\n",
    "    print(' - Fetching history for date: ', FromDateParam,'-',ToDateParam)\n",
    "\n",
    "    # History requests require a date.  We use the same date for start and end since we only want to query a single date in this example\n",
    "    QueryDate = '&startDateTime=' + FromDateParam + 'T00:00:00&endDateTime=' +ToDateParam + 'T00:00:00'\n",
    "    QueryTypeParams = 'history?&aggregateHours=24&unitGroup=us&dayStartTime=0:0:00&dayEndTime=0:0:00' + QueryDate\n",
    "\n",
    "# Build the entire query\n",
    "URL = BaseURL + QueryTypeParams + QueryLocation + QueryKey\n",
    "\n",
    "print(' - Running query URL:', URL)"
   ]
  },
  {
   "cell_type": "code",
   "execution_count": 39,
   "metadata": {},
   "outputs": [],
   "source": [
    "CSVBytes = urllib.request.urlopen(URL)\n",
    "CSVText = csv.reader(codecs.iterdecode(CSVBytes, 'utf-8'))"
   ]
  },
  {
   "cell_type": "code",
   "execution_count": 40,
   "metadata": {},
   "outputs": [
    {
     "name": "stdout",
     "output_type": "stream",
     "text": [
      "<_csv.reader object at 0x7f9fc7ce3900>\n"
     ]
    }
   ],
   "source": [
    "print(CSVText)"
   ]
  },
  {
   "cell_type": "code",
   "execution_count": 41,
   "metadata": {},
   "outputs": [
    {
     "data": {
      "text/plain": [
       "[['Address',\n",
       "  'Date time',\n",
       "  'Minimum Temperature',\n",
       "  'Maximum Temperature',\n",
       "  'Temperature',\n",
       "  'Dew Point',\n",
       "  'Relative Humidity',\n",
       "  'Heat Index',\n",
       "  'Wind Speed',\n",
       "  'Wind Gust',\n",
       "  'Wind Direction',\n",
       "  'Wind Chill',\n",
       "  'Precipitation',\n",
       "  'Precipitation Cover',\n",
       "  'Snow Depth',\n",
       "  'Visibility',\n",
       "  'Cloud Cover',\n",
       "  'Sea Level Pressure',\n",
       "  'Weather Type',\n",
       "  'Latitude',\n",
       "  'Longitude',\n",
       "  'Resolved Address',\n",
       "  'Name',\n",
       "  'Info',\n",
       "  'Conditions'],\n",
       " ['36.12,-86.68',\n",
       "  '03/26/2015',\n",
       "  '42.2',\n",
       "  '65.9',\n",
       "  '54.4',\n",
       "  '48.2',\n",
       "  '80.15',\n",
       "  '',\n",
       "  '16.1',\n",
       "  '29.8',\n",
       "  '271.67',\n",
       "  '35.3',\n",
       "  '0.17',\n",
       "  '33.33',\n",
       "  '',\n",
       "  '0.9',\n",
       "  '88.3',\n",
       "  '1012.6',\n",
       "  '',\n",
       "  '36.12',\n",
       "  '-86.68',\n",
       "  '36.12,-86.68',\n",
       "  '',\n",
       "  '',\n",
       "  'Rain, Overcast']]"
      ]
     },
     "execution_count": 41,
     "metadata": {},
     "output_type": "execute_result"
    }
   ],
   "source": [
    "test_dict = {}\n",
    "row_index = 0\n",
    "csv_row_list = []\n",
    "for row in CSVText:\n",
    "    csv_row_list.append(row)\n",
    "\n",
    "csv_row_list[0]"
   ]
  },
  {
   "cell_type": "code",
   "execution_count": 43,
   "metadata": {},
   "outputs": [],
   "source": [
    "my_dict = dict(zip(csv_row_list[0], csv_row_list[1]))"
   ]
  },
  {
   "cell_type": "code",
   "execution_count": 44,
   "metadata": {},
   "outputs": [
    {
     "data": {
      "text/plain": [
       "{'Address': '36.12,-86.68',\n",
       " 'Date time': '03/26/2015',\n",
       " 'Minimum Temperature': '42.2',\n",
       " 'Maximum Temperature': '65.9',\n",
       " 'Temperature': '54.4',\n",
       " 'Dew Point': '48.2',\n",
       " 'Relative Humidity': '80.15',\n",
       " 'Heat Index': '',\n",
       " 'Wind Speed': '16.1',\n",
       " 'Wind Gust': '29.8',\n",
       " 'Wind Direction': '271.67',\n",
       " 'Wind Chill': '35.3',\n",
       " 'Precipitation': '0.17',\n",
       " 'Precipitation Cover': '33.33',\n",
       " 'Snow Depth': '',\n",
       " 'Visibility': '0.9',\n",
       " 'Cloud Cover': '88.3',\n",
       " 'Sea Level Pressure': '1012.6',\n",
       " 'Weather Type': '',\n",
       " 'Latitude': '36.12',\n",
       " 'Longitude': '-86.68',\n",
       " 'Resolved Address': '36.12,-86.68',\n",
       " 'Name': '',\n",
       " 'Info': '',\n",
       " 'Conditions': 'Rain, Overcast'}"
      ]
     },
     "execution_count": 44,
     "metadata": {},
     "output_type": "execute_result"
    }
   ],
   "source": [
    "my_dict"
   ]
  },
  {
   "cell_type": "code",
   "execution_count": 27,
   "metadata": {},
   "outputs": [
    {
     "name": "stdout",
     "output_type": "stream",
     "text": [
      "Weather in  36.12,-86.68  on  03/26/2015\n",
      "    Temperature  =  54.4\n",
      "    Dew Point  =  48.2\n",
      "    Relative Humidity  =  80.15\n",
      "    Heat Index  =  \n",
      "    Wind Speed  =  16.1\n",
      "    Wind Gust  =  29.8\n",
      "    Wind Direction  =  271.67\n",
      "    Wind Chill  =  35.3\n",
      "    Precipitation  =  0.17\n",
      "    Precipitation Cover  =  33.33\n",
      "    Snow Depth  =  \n",
      "    Visibility  =  0.9\n",
      "    Cloud Cover  =  88.3\n",
      "    Sea Level Pressure  =  1012.6\n",
      "    Weather Type  =  \n",
      "    Latitude  =  36.12\n",
      "    Longitude  =  -86.68\n",
      "    Resolved Address  =  36.12,-86.68\n",
      "    Name  =  \n",
      "    Info  =  \n",
      "    Conditions  =  Rain, Overcast\n"
     ]
    }
   ],
   "source": [
    "RowIndex = 0\n",
    "\n",
    "# The first row contain the headers and the additional rows each contain the weather metrics for a single day\n",
    "# To simply our code, we use the knowledge that column 0 contains the location and column 1 contains the date.  The data starts at column 4\n",
    "for Row in CSVText:\n",
    "    if RowIndex == 0:\n",
    "        FirstRow = Row\n",
    "    else:\n",
    "        print('Weather in ', Row[0], ' on ', Row[1])\n",
    "\n",
    "        ColIndex = 0\n",
    "        for Col in Row:\n",
    "            if ColIndex >= 4:\n",
    "                print('   ', FirstRow[ColIndex], ' = ', Row[ColIndex])\n",
    "            ColIndex += 1\n",
    "    RowIndex += 1"
   ]
  },
  {
   "cell_type": "code",
   "execution_count": null,
   "metadata": {},
   "outputs": [],
   "source": []
  }
 ],
 "metadata": {
  "kernelspec": {
   "display_name": "Python [conda env:metis] *",
   "language": "python",
   "name": "conda-env-metis-py"
  },
  "language_info": {
   "codemirror_mode": {
    "name": "ipython",
    "version": 3
   },
   "file_extension": ".py",
   "mimetype": "text/x-python",
   "name": "python",
   "nbconvert_exporter": "python",
   "pygments_lexer": "ipython3",
   "version": "3.8.3"
  }
 },
 "nbformat": 4,
 "nbformat_minor": 4
}
